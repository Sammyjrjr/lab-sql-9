{
 "cells": [
  {
   "cell_type": "markdown",
   "id": "2b83e040-3c4c-4522-8f29-bd1c042240c2",
   "metadata": {},
   "source": [
    "# Create a Python connection with SQL database and retrieve the results of the last two queries (also mentioned below) as dataframes:\n",
    "\n"
   ]
  },
  {
   "cell_type": "code",
   "execution_count": 2,
   "id": "20b77fd3-9277-41c2-8ff5-537d6761e7fe",
   "metadata": {},
   "outputs": [],
   "source": [
    "import mysql.connector"
   ]
  },
  {
   "cell_type": "code",
   "execution_count": 3,
   "id": "38d4d3ce-b434-4b3d-9ad1-dd0ba3e37fc6",
   "metadata": {},
   "outputs": [],
   "source": [
    "from mysql.connector import connect\n",
    "from getpass import getpass"
   ]
  },
  {
   "cell_type": "code",
   "execution_count": 4,
   "id": "14d8c58e-d758-4096-bbf8-1b8f87da7f33",
   "metadata": {},
   "outputs": [
    {
     "name": "stdin",
     "output_type": "stream",
     "text": [
      "Enter password:  ············\n"
     ]
    }
   ],
   "source": [
    "db = connect(\n",
    "        host= \"localhost\",\n",
    "        user = \"root\",\n",
    "        passwd = getpass(\"Enter password: \"),\n",
    "        database= \"sakila\"\n",
    "   )"
   ]
  },
  {
   "cell_type": "markdown",
   "id": "976891b7-c288-4ccc-acf8-8d1478e3c067",
   "metadata": {},
   "source": [
    "# Check the number of rentals for each customer for May"
   ]
  },
  {
   "cell_type": "code",
   "execution_count": 9,
   "id": "7bf58ab9-62db-4d31-b195-1eb7f6e14a2f",
   "metadata": {},
   "outputs": [],
   "source": [
    "cursor = db.cursor()\n",
    "query_may = 'select customer_id, count(rental_id) as number_of_rentals_may from rentals_may group by customer_id;'\n",
    "cursor.execute(query_may)"
   ]
  },
  {
   "cell_type": "code",
   "execution_count": 10,
   "id": "4e089723-c91f-4b35-868e-a5fe6fe33786",
   "metadata": {},
   "outputs": [],
   "source": [
    "import pandas as pd"
   ]
  },
  {
   "cell_type": "code",
   "execution_count": 11,
   "id": "ca3b639d-5e04-4f77-a9b9-6fedea2a85e3",
   "metadata": {},
   "outputs": [
    {
     "data": {
      "text/html": [
       "<div>\n",
       "<style scoped>\n",
       "    .dataframe tbody tr th:only-of-type {\n",
       "        vertical-align: middle;\n",
       "    }\n",
       "\n",
       "    .dataframe tbody tr th {\n",
       "        vertical-align: top;\n",
       "    }\n",
       "\n",
       "    .dataframe thead th {\n",
       "        text-align: right;\n",
       "    }\n",
       "</style>\n",
       "<table border=\"1\" class=\"dataframe\">\n",
       "  <thead>\n",
       "    <tr style=\"text-align: right;\">\n",
       "      <th></th>\n",
       "      <th>0</th>\n",
       "      <th>1</th>\n",
       "    </tr>\n",
       "  </thead>\n",
       "  <tbody>\n",
       "    <tr>\n",
       "      <th>0</th>\n",
       "      <td>130</td>\n",
       "      <td>2</td>\n",
       "    </tr>\n",
       "    <tr>\n",
       "      <th>1</th>\n",
       "      <td>459</td>\n",
       "      <td>1</td>\n",
       "    </tr>\n",
       "    <tr>\n",
       "      <th>2</th>\n",
       "      <td>408</td>\n",
       "      <td>3</td>\n",
       "    </tr>\n",
       "    <tr>\n",
       "      <th>3</th>\n",
       "      <td>333</td>\n",
       "      <td>1</td>\n",
       "    </tr>\n",
       "    <tr>\n",
       "      <th>4</th>\n",
       "      <td>222</td>\n",
       "      <td>5</td>\n",
       "    </tr>\n",
       "    <tr>\n",
       "      <th>...</th>\n",
       "      <td>...</td>\n",
       "      <td>...</td>\n",
       "    </tr>\n",
       "    <tr>\n",
       "      <th>515</th>\n",
       "      <td>191</td>\n",
       "      <td>2</td>\n",
       "    </tr>\n",
       "    <tr>\n",
       "      <th>516</th>\n",
       "      <td>351</td>\n",
       "      <td>1</td>\n",
       "    </tr>\n",
       "    <tr>\n",
       "      <th>517</th>\n",
       "      <td>10</td>\n",
       "      <td>1</td>\n",
       "    </tr>\n",
       "    <tr>\n",
       "      <th>518</th>\n",
       "      <td>136</td>\n",
       "      <td>1</td>\n",
       "    </tr>\n",
       "    <tr>\n",
       "      <th>519</th>\n",
       "      <td>61</td>\n",
       "      <td>1</td>\n",
       "    </tr>\n",
       "  </tbody>\n",
       "</table>\n",
       "<p>520 rows × 2 columns</p>\n",
       "</div>"
      ],
      "text/plain": [
       "       0  1\n",
       "0    130  2\n",
       "1    459  1\n",
       "2    408  3\n",
       "3    333  1\n",
       "4    222  5\n",
       "..   ... ..\n",
       "515  191  2\n",
       "516  351  1\n",
       "517   10  1\n",
       "518  136  1\n",
       "519   61  1\n",
       "\n",
       "[520 rows x 2 columns]"
      ]
     },
     "execution_count": 11,
     "metadata": {},
     "output_type": "execute_result"
    }
   ],
   "source": [
    "database_may = pd.DataFrame(cursor.fetchall())\n",
    "database_may"
   ]
  },
  {
   "cell_type": "markdown",
   "id": "494b3d8d-8bb8-42d9-aa7c-9d2ff247002e",
   "metadata": {},
   "source": [
    "# Check the number of rentals for each customer for June"
   ]
  },
  {
   "cell_type": "code",
   "execution_count": 12,
   "id": "eadf0c40-6967-4729-b287-3d97f0ede55b",
   "metadata": {},
   "outputs": [],
   "source": [
    "cursor = db.cursor()\n",
    "query_june = 'select customer_id, count(rental_id) as number_of_rentals_june from rentals_june group by customer_id;'\n",
    "cursor.execute(query_june)"
   ]
  },
  {
   "cell_type": "code",
   "execution_count": 14,
   "id": "dd57cbe6-2d07-439a-8117-a8590f28d68f",
   "metadata": {},
   "outputs": [
    {
     "data": {
      "text/html": [
       "<div>\n",
       "<style scoped>\n",
       "    .dataframe tbody tr th:only-of-type {\n",
       "        vertical-align: middle;\n",
       "    }\n",
       "\n",
       "    .dataframe tbody tr th {\n",
       "        vertical-align: top;\n",
       "    }\n",
       "\n",
       "    .dataframe thead th {\n",
       "        text-align: right;\n",
       "    }\n",
       "</style>\n",
       "<table border=\"1\" class=\"dataframe\">\n",
       "  <thead>\n",
       "    <tr style=\"text-align: right;\">\n",
       "      <th></th>\n",
       "      <th>0</th>\n",
       "      <th>1</th>\n",
       "    </tr>\n",
       "  </thead>\n",
       "  <tbody>\n",
       "    <tr>\n",
       "      <th>0</th>\n",
       "      <td>416</td>\n",
       "      <td>5</td>\n",
       "    </tr>\n",
       "    <tr>\n",
       "      <th>1</th>\n",
       "      <td>516</td>\n",
       "      <td>6</td>\n",
       "    </tr>\n",
       "    <tr>\n",
       "      <th>2</th>\n",
       "      <td>239</td>\n",
       "      <td>5</td>\n",
       "    </tr>\n",
       "    <tr>\n",
       "      <th>3</th>\n",
       "      <td>285</td>\n",
       "      <td>3</td>\n",
       "    </tr>\n",
       "    <tr>\n",
       "      <th>4</th>\n",
       "      <td>310</td>\n",
       "      <td>6</td>\n",
       "    </tr>\n",
       "    <tr>\n",
       "      <th>...</th>\n",
       "      <td>...</td>\n",
       "      <td>...</td>\n",
       "    </tr>\n",
       "    <tr>\n",
       "      <th>585</th>\n",
       "      <td>412</td>\n",
       "      <td>1</td>\n",
       "    </tr>\n",
       "    <tr>\n",
       "      <th>586</th>\n",
       "      <td>335</td>\n",
       "      <td>1</td>\n",
       "    </tr>\n",
       "    <tr>\n",
       "      <th>587</th>\n",
       "      <td>226</td>\n",
       "      <td>2</td>\n",
       "    </tr>\n",
       "    <tr>\n",
       "      <th>588</th>\n",
       "      <td>22</td>\n",
       "      <td>1</td>\n",
       "    </tr>\n",
       "    <tr>\n",
       "      <th>589</th>\n",
       "      <td>126</td>\n",
       "      <td>1</td>\n",
       "    </tr>\n",
       "  </tbody>\n",
       "</table>\n",
       "<p>590 rows × 2 columns</p>\n",
       "</div>"
      ],
      "text/plain": [
       "       0  1\n",
       "0    416  5\n",
       "1    516  6\n",
       "2    239  5\n",
       "3    285  3\n",
       "4    310  6\n",
       "..   ... ..\n",
       "585  412  1\n",
       "586  335  1\n",
       "587  226  2\n",
       "588   22  1\n",
       "589  126  1\n",
       "\n",
       "[590 rows x 2 columns]"
      ]
     },
     "execution_count": 14,
     "metadata": {},
     "output_type": "execute_result"
    }
   ],
   "source": [
    "database_june = pd.DataFrame(cursor.fetchall())\n",
    "database_june"
   ]
  },
  {
   "cell_type": "markdown",
   "id": "5363cb30-c411-41b3-9b4c-9dd677b52aaa",
   "metadata": {},
   "source": [
    "# Write a function that checks if customer borrowed more or less films in the month of June as compared to May.\n"
   ]
  },
  {
   "cell_type": "code",
   "execution_count": null,
   "id": "3dc5afb1-65eb-4b66-801b-c61cf21ca589",
   "metadata": {},
   "outputs": [],
   "source": []
  }
 ],
 "metadata": {
  "kernelspec": {
   "display_name": "Python 3 (ipykernel)",
   "language": "python",
   "name": "python3"
  },
  "language_info": {
   "codemirror_mode": {
    "name": "ipython",
    "version": 3
   },
   "file_extension": ".py",
   "mimetype": "text/x-python",
   "name": "python",
   "nbconvert_exporter": "python",
   "pygments_lexer": "ipython3",
   "version": "3.9.12"
  }
 },
 "nbformat": 4,
 "nbformat_minor": 5
}
